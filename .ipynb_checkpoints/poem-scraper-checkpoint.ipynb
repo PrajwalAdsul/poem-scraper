{
 "cells": [
  {
   "cell_type": "markdown",
   "metadata": {},
   "source": [
    "A program to scrape all poems in poems.org. \n",
    "All links will be crawled one by one and each poem will be stored in a text file in a folder. \n",
    "\n",
    "Go to homepage first and then traverse on to other pages using the links on the current page. \n",
    "Download all pages using the requests module.\n",
    "Find the URL for a page using Beautiful Soup.\n",
    "Download and save the poem by its name, if it doesn't already exist on hard drive with iter_content().\n"
   ]
  },
  {
   "cell_type": "code",
   "execution_count": null,
   "metadata": {},
   "outputs": [],
   "source": [
    "#Importing necessary modules\n",
    "\n",
    "import requests as Rq\n",
    "from bs4 import BeautifulSoup as soup \n",
    "import os\n",
    "import sys\n",
    "import selenium\n",
    "from selenium import webdriver\n",
    "from selenium.webdriver.common.keys import Keys\n",
    "from selenium.webdriver.common.by import By\n",
    "from selenium import webdriver\n",
    "from selenium.webdriver.support.ui import WebDriverWait\n",
    "from selenium.webdriver.support import expected_conditions as EC\n",
    "from selenium.webdriver.common.by import By\n",
    "from selenium.common.exceptions import TimeoutException\n"
   ]
  },
  {
   "cell_type": "code",
   "execution_count": null,
   "metadata": {},
   "outputs": [],
   "source": [
    "url = 'https://poets.org/poems'       # starting url\n",
    "os.makedirs('Poems', exist_ok=True)   # store comics in ./Poems"
   ]
  },
  {
   "cell_type": "code",
   "execution_count": null,
   "metadata": {
    "scrolled": false
   },
   "outputs": [],
   "source": [
    "#Creating a new firefox session\n",
    "\n",
    "options = webdriver.ChromeOptions()\n",
    "options.add_argument('headless')\n",
    "driver = webdriver.Chrome(executable_path=\"C:\\chromedriver_win32\\chromedriver.exe\", chrome_options=options)\n",
    "driver.get(url)\n",
    "#while(1):\n",
    "delay = 15 # seconds\n",
    "def waittoload(): \n",
    "    try:\n",
    "        myElem = WebDriverWait(driver, delay).until(EC.presence_of_element_located((By.ID, 'IdOfMyElement')))\n",
    "        print(\"Page is ready\")\n",
    "    except TimeoutException:\n",
    "        print(\"good enough\")\n",
    "\n",
    "        \n",
    "def fillList():\n",
    "    rows = soup_level1.findAll('tr')\n",
    "    #print(rows)\n",
    "\n",
    "    for row in rows:\n",
    "        tds = row.findAll('td')\n",
    "        if(tds):\n",
    "            link = tds[0].find('a')\n",
    "            ls.append(link.get('href'))\n",
    "            #print(link.get('href'))  \n",
    "\n",
    "        \n",
    "waittoload()   \n",
    "#Initialise a list to store all links per page\n",
    "ls = []\n",
    "i = 10 #counter of poems\n",
    "soup_level1 = soup(driver.page_source, \"html.parser\")\n",
    "while(i):\n",
    "    try: \n",
    "        fillList()\n",
    "        python_button = driver.find_element_by_partial_link_text('Next')\n",
    "        python_button.click()\n",
    "        waittoload() \n",
    "        soup_level1 = soup(driver.page_source, \"html.parser\")\n",
    "    except:\n",
    "        print(\"An exception occurred\") \n",
    "    i = i-1\n",
    "\n",
    "    \n",
    "print(len(ls))"
   ]
  },
  {
   "cell_type": "code",
   "execution_count": null,
   "metadata": {},
   "outputs": [],
   "source": [
    "#store all the links to a textfile\n",
    "with open('links.txt', 'w') as f:\n",
    "    for item in ls:\n",
    "        f.write(\"%s\\n\" % item)"
   ]
  },
  {
   "cell_type": "code",
   "execution_count": null,
   "metadata": {},
   "outputs": [],
   "source": [
    "#Open all the links in the list and store each poem in a txt file \n",
    "\n",
    "for link in ls:\n",
    "        print('https://poets.org'+link)\n",
    "        driver.get('https://poets.org'+link)\n",
    "        content = soup(driver.page_source, \"html.parser\")\n",
    "        title = driver.find_element_by_class_name('card-title')\n",
    "        #poet = driver.\n",
    "        poem = driver.find_element_by_class_name('card-body')\n",
    "        #print(title.text)\n",
    "        poemName = title.text.replace(\" \", \"\")\n",
    "        fileName = 'Poems/' + poemName + \".txt\"\n",
    "        file = open(fileName,'w',encoding=\"utf-8\")\n",
    "        file.write(title.text + '\\n')\n",
    "        for chunk in poem.text:\n",
    "                file.write(chunk)\n",
    "        file.close()"
   ]
  }
 ],
 "metadata": {
  "kernelspec": {
   "display_name": "Python 3",
   "language": "python",
   "name": "python3"
  },
  "language_info": {
   "codemirror_mode": {
    "name": "ipython",
    "version": 3
   },
   "file_extension": ".py",
   "mimetype": "text/x-python",
   "name": "python",
   "nbconvert_exporter": "python",
   "pygments_lexer": "ipython3",
   "version": "3.7.3"
  }
 },
 "nbformat": 4,
 "nbformat_minor": 2
}
