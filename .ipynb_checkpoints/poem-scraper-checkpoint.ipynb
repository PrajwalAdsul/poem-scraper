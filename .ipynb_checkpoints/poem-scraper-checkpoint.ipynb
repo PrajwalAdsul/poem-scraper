{
 "cells": [
  {
   "cell_type": "markdown",
   "metadata": {},
   "source": [
    "A program to scrape all poems in poems.org. \n",
    "All links will be crawled one by one and each poem will be stored in a text file in a folder. \n",
    "\n",
    "Go to homepage first and then traverse on to other pages using the links on the current page. \n",
    "Download all pages using the requests module.\n",
    "Find the URL for a page using Beautiful Soup.\n",
    "Download and save the poem by its name, if it doesn't already exist on hard drive with iter_content().\n"
   ]
  },
  {
   "cell_type": "code",
   "execution_count": 6,
   "metadata": {},
   "outputs": [],
   "source": [
    "#Importing necessary modules\n",
    "\n",
    "import requests as Rq\n",
    "from bs4 import BeautifulSoup as soup \n",
    "import os"
   ]
  },
  {
   "cell_type": "code",
   "execution_count": 7,
   "metadata": {},
   "outputs": [],
   "source": [
    "url = 'https://poets.org/poems'       # starting url\n",
    "os.makedirs('Poems', exist_ok=True)   # store comics in ./Poems"
   ]
  },
  {
   "cell_type": "code",
   "execution_count": null,
   "metadata": {},
   "outputs": [],
   "source": [
    "while not url.endswith('html'):\n",
    "    #Download the page\n",
    "    print('Downloading page %s...' % url)\n",
    "    res = Rq.get(url)\n",
    "    res.raise_for_status()\n",
    "    #print(res)\n",
    "    txt = soup(res.text)\n",
    "    #print(txt)\n",
    "    \n",
    "    #Find poem and its title\n",
    "\n",
    "    #Save the poem in .txt to ./Poems folder\n",
    "\n",
    "    #Get the next poem's url\n",
    "    \n",
    "print('Done!!')"
   ]
  },
  {
   "cell_type": "code",
   "execution_count": null,
   "metadata": {},
   "outputs": [],
   "source": []
  }
 ],
 "metadata": {
  "kernelspec": {
   "display_name": "Python 3",
   "language": "python",
   "name": "python3"
  },
  "language_info": {
   "codemirror_mode": {
    "name": "ipython",
    "version": 3
   },
   "file_extension": ".py",
   "mimetype": "text/x-python",
   "name": "python",
   "nbconvert_exporter": "python",
   "pygments_lexer": "ipython3",
   "version": "3.7.3"
  }
 },
 "nbformat": 4,
 "nbformat_minor": 2
}
